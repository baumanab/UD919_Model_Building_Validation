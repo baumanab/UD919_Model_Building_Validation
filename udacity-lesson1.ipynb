{
 "cells": [
  {
   "cell_type": "markdown",
   "metadata": {},
   "source": [
    "### Getting familiar with iPython notebook"
   ]
  },
  {
   "cell_type": "code",
   "execution_count": 1,
   "metadata": {
    "collapsed": false
   },
   "outputs": [
    {
     "name": "stdout",
     "output_type": "stream",
     "text": [
      "hello world\n"
     ]
    }
   ],
   "source": [
    "print(\"hello world\")"
   ]
  },
  {
   "cell_type": "code",
   "execution_count": 5,
   "metadata": {
    "collapsed": false
   },
   "outputs": [],
   "source": [
    "########################################\n",
    "#                   1                  #\n",
    "########################################\n",
    "\n",
    "# Load the boston dataset included with sklearn\n",
    "\n",
    "##### Start solution code #####\n",
    "from sklearn import datasets\n",
    "dataset = datasets.load_boston()\n",
    "##### End solution code #####"
   ]
  },
  {
   "cell_type": "code",
   "execution_count": 6,
   "metadata": {
    "collapsed": false
   },
   "outputs": [
    {
     "name": "stdout",
     "output_type": "stream",
     "text": [
      "Boston House Prices dataset\n",
      "\n",
      "Notes\n",
      "------\n",
      "Data Set Characteristics:  \n",
      "\n",
      "    :Number of Instances: 506 \n",
      "\n",
      "    :Number of Attributes: 13 numeric/categorical predictive\n",
      "    \n",
      "    :Median Value (attribute 14) is usually the target\n",
      "\n",
      "    :Attribute Information (in order):\n",
      "        - CRIM     per capita crime rate by town\n",
      "        - ZN       proportion of residential land zoned for lots over 25,000 sq.ft.\n",
      "        - INDUS    proportion of non-retail business acres per town\n",
      "        - CHAS     Charles River dummy variable (= 1 if tract bounds river; 0 otherwise)\n",
      "        - NOX      nitric oxides concentration (parts per 10 million)\n",
      "        - RM       average number of rooms per dwelling\n",
      "        - AGE      proportion of owner-occupied units built prior to 1940\n",
      "        - DIS      weighted distances to five Boston employment centres\n",
      "        - RAD      index of accessibility to radial highways\n",
      "        - TAX      full-value property-tax rate per $10,000\n",
      "        - PTRATIO  pupil-teacher ratio by town\n",
      "        - B        1000(Bk - 0.63)^2 where Bk is the proportion of blacks by town\n",
      "        - LSTAT    % lower status of the population\n",
      "        - MEDV     Median value of owner-occupied homes in $1000's\n",
      "\n",
      "    :Missing Attribute Values: None\n",
      "\n",
      "    :Creator: Harrison, D. and Rubinfeld, D.L.\n",
      "\n",
      "This is a copy of UCI ML housing dataset.\n",
      "http://archive.ics.uci.edu/ml/datasets/Housing\n",
      "\n",
      "\n",
      "This dataset was taken from the StatLib library which is maintained at Carnegie Mellon University.\n",
      "\n",
      "The Boston house-price data of Harrison, D. and Rubinfeld, D.L. 'Hedonic\n",
      "prices and the demand for clean air', J. Environ. Economics & Management,\n",
      "vol.5, 81-102, 1978.   Used in Belsley, Kuh & Welsch, 'Regression diagnostics\n",
      "...', Wiley, 1980.   N.B. Various transformations are used in the table on\n",
      "pages 244-261 of the latter.\n",
      "\n",
      "The Boston house-price data has been used in many machine learning papers that address regression\n",
      "problems.   \n",
      "     \n",
      "**References**\n",
      "\n",
      "   - Belsley, Kuh & Welsch, 'Regression diagnostics: Identifying Influential Data and Sources of Collinearity', Wiley, 1980. 244-261.\n",
      "   - Quinlan,R. (1993). Combining Instance-Based and Model-Based Learning. In Proceedings on the Tenth International Conference of Machine Learning, 236-243, University of Massachusetts, Amherst. Morgan Kaufmann.\n",
      "   - many more! (see http://archive.ics.uci.edu/ml/datasets/Housing)\n",
      "\n",
      "[  6.32000000e-03   1.80000000e+01   2.31000000e+00   0.00000000e+00\n",
      "   5.38000000e-01   6.57500000e+00   6.52000000e+01   4.09000000e+00\n",
      "   1.00000000e+00   2.96000000e+02   1.53000000e+01   3.96900000e+02\n",
      "   4.98000000e+00]\n"
     ]
    }
   ],
   "source": [
    "########################################\n",
    "#                   2                  #\n",
    "########################################\n",
    "\n",
    "# Run this cell to see what it does.\n",
    "# Then modify the code to print both the description and the data point.\n",
    "\n",
    "dataset.DESCR\n",
    "dataset.data[0]\n",
    "\n",
    "##### Start solution code #####\n",
    "print(dataset.DESCR)\n",
    "print(dataset.data[0])\n",
    "##### end solution code"
   ]
  },
  {
   "cell_type": "markdown",
   "metadata": {},
   "source": [
    "### Loading the data"
   ]
  },
  {
   "cell_type": "code",
   "execution_count": 3,
   "metadata": {
    "collapsed": false
   },
   "outputs": [
    {
     "name": "stdout",
     "output_type": "stream",
     "text": [
      "Populating the interactive namespace from numpy and matplotlib\n"
     ]
    },
    {
     "name": "stderr",
     "output_type": "stream",
     "text": [
      "C:\\Users\\vhim98198\\Anaconda2\\lib\\site-packages\\matplotlib\\__init__.py:872: UserWarning: axes.color_cycle is deprecated and replaced with axes.prop_cycle; please use the latter.\n",
      "  warnings.warn(self.msg_depr % (key, alt_key))\n"
     ]
    }
   ],
   "source": [
    "# Make plots appear inline rather than in a separate window\n",
    "# no-import-all prevents importing * from numpy and matplotlib\n",
    "%pylab inline --no-import-all\n",
    "\n",
    "# Import some useful libraries\n",
    "import scipy\n",
    "import numpy\n",
    "import pandas\n",
    "import seaborn # Importing seaborn automatically makes our plots look better\n",
    "import matplotlib.pyplot as pyplt"
   ]
  },
  {
   "cell_type": "code",
   "execution_count": 4,
   "metadata": {
    "collapsed": false
   },
   "outputs": [
    {
     "data": {
      "text/plain": [
       "gender         173\n",
       "candy          174\n",
       "flavor          52\n",
       "age            169\n",
       "ethnicity      174\n",
       "shirt color    174\n",
       "dtype: int64"
      ]
     },
     "execution_count": 4,
     "metadata": {},
     "output_type": "execute_result"
    }
   ],
   "source": [
    "df = pandas.read_csv(\"candy_choices.csv\")\n",
    "df.count()"
   ]
  },
  {
   "cell_type": "code",
   "execution_count": 8,
   "metadata": {
    "collapsed": false
   },
   "outputs": [
    {
     "data": {
      "text/html": [
       "<div>\n",
       "<table border=\"1\" class=\"dataframe\">\n",
       "  <thead>\n",
       "    <tr style=\"text-align: right;\">\n",
       "      <th></th>\n",
       "      <th>age</th>\n",
       "    </tr>\n",
       "  </thead>\n",
       "  <tbody>\n",
       "    <tr>\n",
       "      <th>count</th>\n",
       "      <td>169.000000</td>\n",
       "    </tr>\n",
       "    <tr>\n",
       "      <th>mean</th>\n",
       "      <td>26.402367</td>\n",
       "    </tr>\n",
       "    <tr>\n",
       "      <th>std</th>\n",
       "      <td>5.722054</td>\n",
       "    </tr>\n",
       "    <tr>\n",
       "      <th>min</th>\n",
       "      <td>18.000000</td>\n",
       "    </tr>\n",
       "    <tr>\n",
       "      <th>25%</th>\n",
       "      <td>23.000000</td>\n",
       "    </tr>\n",
       "    <tr>\n",
       "      <th>50%</th>\n",
       "      <td>25.000000</td>\n",
       "    </tr>\n",
       "    <tr>\n",
       "      <th>75%</th>\n",
       "      <td>29.000000</td>\n",
       "    </tr>\n",
       "    <tr>\n",
       "      <th>max</th>\n",
       "      <td>50.000000</td>\n",
       "    </tr>\n",
       "  </tbody>\n",
       "</table>\n",
       "</div>"
      ],
      "text/plain": [
       "              age\n",
       "count  169.000000\n",
       "mean    26.402367\n",
       "std      5.722054\n",
       "min     18.000000\n",
       "25%     23.000000\n",
       "50%     25.000000\n",
       "75%     29.000000\n",
       "max     50.000000"
      ]
     },
     "execution_count": 8,
     "metadata": {},
     "output_type": "execute_result"
    }
   ],
   "source": [
    "df.describe()"
   ]
  },
  {
   "cell_type": "code",
   "execution_count": 9,
   "metadata": {
    "collapsed": false
   },
   "outputs": [
    {
     "data": {
      "text/html": [
       "<div>\n",
       "<table border=\"1\" class=\"dataframe\">\n",
       "  <thead>\n",
       "    <tr style=\"text-align: right;\">\n",
       "      <th></th>\n",
       "      <th>gender</th>\n",
       "      <th>candy</th>\n",
       "      <th>flavor</th>\n",
       "      <th>age</th>\n",
       "      <th>ethnicity</th>\n",
       "      <th>shirt color</th>\n",
       "    </tr>\n",
       "  </thead>\n",
       "  <tbody>\n",
       "    <tr>\n",
       "      <th>0</th>\n",
       "      <td>M</td>\n",
       "      <td>reeses</td>\n",
       "      <td>NaN</td>\n",
       "      <td>26.0</td>\n",
       "      <td>white</td>\n",
       "      <td>red</td>\n",
       "    </tr>\n",
       "    <tr>\n",
       "      <th>1</th>\n",
       "      <td>M</td>\n",
       "      <td>kitkat</td>\n",
       "      <td>NaN</td>\n",
       "      <td>32.0</td>\n",
       "      <td>black</td>\n",
       "      <td>green</td>\n",
       "    </tr>\n",
       "    <tr>\n",
       "      <th>2</th>\n",
       "      <td>F</td>\n",
       "      <td>airhead</td>\n",
       "      <td>double mystery</td>\n",
       "      <td>26.0</td>\n",
       "      <td>mixed</td>\n",
       "      <td>white</td>\n",
       "    </tr>\n",
       "    <tr>\n",
       "      <th>3</th>\n",
       "      <td>M</td>\n",
       "      <td>starburst</td>\n",
       "      <td>red</td>\n",
       "      <td>26.0</td>\n",
       "      <td>white</td>\n",
       "      <td>red</td>\n",
       "    </tr>\n",
       "    <tr>\n",
       "      <th>4</th>\n",
       "      <td>F</td>\n",
       "      <td>reeses</td>\n",
       "      <td>NaN</td>\n",
       "      <td>31.0</td>\n",
       "      <td>white</td>\n",
       "      <td>black</td>\n",
       "    </tr>\n",
       "  </tbody>\n",
       "</table>\n",
       "</div>"
      ],
      "text/plain": [
       "  gender      candy          flavor   age ethnicity shirt color\n",
       "0      M     reeses             NaN  26.0     white         red\n",
       "1      M     kitkat             NaN  32.0     black       green\n",
       "2      F    airhead  double mystery  26.0     mixed       white\n",
       "3      M  starburst             red  26.0     white         red\n",
       "4      F     reeses             NaN  31.0     white       black"
      ]
     },
     "execution_count": 9,
     "metadata": {},
     "output_type": "execute_result"
    }
   ],
   "source": [
    "df.head()"
   ]
  },
  {
   "cell_type": "code",
   "execution_count": 10,
   "metadata": {
    "collapsed": false
   },
   "outputs": [
    {
     "name": "stdout",
     "output_type": "stream",
     "text": [
      "<class 'pandas.core.frame.DataFrame'>\n",
      "RangeIndex: 174 entries, 0 to 173\n",
      "Data columns (total 6 columns):\n",
      "gender         173 non-null object\n",
      "candy          174 non-null object\n",
      "flavor         52 non-null object\n",
      "age            169 non-null float64\n",
      "ethnicity      174 non-null object\n",
      "shirt color    174 non-null object\n",
      "dtypes: float64(1), object(5)\n",
      "memory usage: 4.8+ KB\n"
     ]
    }
   ],
   "source": [
    "df.info()"
   ]
  },
  {
   "cell_type": "code",
   "execution_count": "",
   "metadata": {
    "collapsed": false
   },
   "outputs": [],
   "source": [
    "# Each event will contain a tuple (selection index, selection, time since previous selection)\n",
    "event_list = [] \n",
    "\n",
    "i = 0\n",
    "time_since_last = {} \n",
    "\n",
    "for item in df[\"candy\"].values:\n",
    "    if item in time_since_last:\n",
    "        event_list.append((i, item, time_since_last[item]))\n",
    "    \n",
    "    for e in time_since_last.keys():\n",
    "        time_since_last[e]+=1\n",
    "            \n",
    "    time_since_last[item] = 0\n",
    "    i += 1"
   ]
  },
  {
   "cell_type": "code",
   "execution_count": "",
   "metadata": {
    "collapsed": false
   },
   "outputs": [],
   "source": [
    "event_list[:10]"
   ]
  },
  {
   "cell_type": "markdown",
   "metadata": {},
   "source": [
    "### Plots of interselection times"
   ]
  },
  {
   "cell_type": "code",
   "execution_count": "",
   "metadata": {
    "collapsed": false
   },
   "outputs": [],
   "source": [
    "def plot_interselection_time(events, color, candy_name):\n",
    "    # Pull out the interselection times for the appropriate candy\n",
    "    candy = [] \n",
    "    for (i, choice, time) in events:\n",
    "        if choice == candy_name:\n",
    "            candy.append(time)\n",
    "            \n",
    "    # Plot the interselection times\n",
    "    plt.plot(range(len(candy)), candy, color=color, label=candy_name)\n",
    "    \n",
    "    # Add a legend and label the axes\n",
    "    plt.legend(frameon=True, shadow=True, framealpha=0.7, loc=0, prop={'size':14})\n",
    "    plt.xlabel(\"Selection number\", fontsize=14)\n",
    "    plt.ylabel(\"Interselection time\", fontsize=14)"
   ]
  },
  {
   "cell_type": "code",
   "execution_count": "",
   "metadata": {
    "collapsed": false
   },
   "outputs": [],
   "source": [
    "plot_interselection_time(event_list, \"orange\", \"airhead\")"
   ]
  },
  {
   "cell_type": "code",
   "execution_count": "",
   "metadata": {
    "collapsed": false
   },
   "outputs": [],
   "source": [
    "plot_interselection_time(event_list, \"red\", \"starburst\")\n",
    "plot_interselection_time(event_list, \"orange\", \"airhead\")"
   ]
  },
  {
   "cell_type": "code",
   "execution_count": "",
   "metadata": {
    "collapsed": false
   },
   "outputs": [],
   "source": [
    "########################################\n",
    "#                   3                  #\n",
    "########################################\n",
    "\n",
    "# Modify this function so that a 5 on the x-axis corresponds to\n",
    "# the 5th time any candy was chosen\n",
    "\n",
    "def plot_interselection_time_scaled(events, color, candy_name):\n",
    "    # Pull out the interselection times for the appropriate candy\n",
    "    candy = [] \n",
    "    for (i, choice, time) in events:\n",
    "        if choice == candy_name:\n",
    "            candy.append(time)\n",
    "            \n",
    "    # Plot the interselection times\n",
    "    plt.plot(range(len(candy)), candy, color=color, label=candy_name)\n",
    "    \n",
    "    # Add a legend and label the axes\n",
    "    plt.legend(frameon=True, shadow=True, framealpha=0.7, loc=0, prop={'size':14})\n",
    "    plt.xlabel(\"Selection number\", fontsize=14)\n",
    "    plt.ylabel(\"Interselection time\", fontsize=14)\n",
    "    \n",
    "    \n",
    "##### Start solution code #####\n",
    "def plot_interselection_time_scaled(events, color, candy_name):\n",
    "    # Pull out the interselection times for the appropriate candy\n",
    "    candy = [] \n",
    "    selection_numbers = []\n",
    "    for (i, choice, time) in events:\n",
    "        if choice == candy_name:\n",
    "            candy.append(time)\n",
    "            selection_numbers.append(i)\n",
    "            \n",
    "    # Plot the interselection times\n",
    "    plt.plot(selection_numbers, candy, color=color, label=candy_name)\n",
    "    \n",
    "    # Add a legend and label the axes\n",
    "    plt.legend(frameon=True, shadow=True, framealpha=0.7, loc=0, prop={'size':14})\n",
    "    plt.xlabel(\"Selection number\", fontsize=14)\n",
    "    plt.ylabel(\"Interselection time\", fontsize=14)\n",
    "##### End solution code"
   ]
  },
  {
   "cell_type": "code",
   "execution_count": "",
   "metadata": {
    "collapsed": false
   },
   "outputs": [],
   "source": [
    "plot_interselection_time_scaled(event_list, \"orange\", \"airhead\")"
   ]
  },
  {
   "cell_type": "code",
   "execution_count": "",
   "metadata": {
    "collapsed": false
   },
   "outputs": [],
   "source": [
    "plot_interselection_time_scaled(event_list, \"red\", \"starburst\")\n",
    "plot_interselection_time_scaled(event_list, \"orange\", \"airhead\")"
   ]
  },
  {
   "cell_type": "code",
   "execution_count": "",
   "metadata": {
    "collapsed": false
   },
   "outputs": [],
   "source": [
    "plot_interselection_time_scaled(event_list, \"blue\", \"reeses\")\n",
    "plot_interselection_time_scaled(event_list, \"green\", \"rolo\")\n",
    "plot_interselection_time_scaled(event_list, \"yellow\", \"kitkat\")\n",
    "plot_interselection_time_scaled(event_list, \"purple\", \"hersheys\")\n",
    "plot_interselection_time_scaled(event_list, \"red\", \"starburst\")\n",
    "plot_interselection_time_scaled(event_list, \"orange\", \"airhead\")"
   ]
  },
  {
   "cell_type": "code",
   "execution_count": "",
   "metadata": {
    "collapsed": false
   },
   "outputs": [],
   "source": [
    "plot_interselection_time_scaled(event_list, \"blue\", \"reeses\")\n",
    "plot_interselection_time_scaled(event_list, \"green\", \"rolo\")"
   ]
  },
  {
   "cell_type": "markdown",
   "metadata": {},
   "source": [
    "### Build training points"
   ]
  },
  {
   "cell_type": "code",
   "execution_count": "",
   "metadata": {
    "collapsed": false
   },
   "outputs": [],
   "source": [
    "# Each sharedStateEvent will be a map from all candy types to the time since that candy was selected\n",
    "shared_state_events = [{\"airhead\":0, \"starburst\":0, \"hersheys\":0, \"reeses\":0, \"kitkat\":0, \"rolo\":0}]\n",
    "\n",
    "\n",
    "import copy\n",
    "\n",
    "i = 0\n",
    "time_since_last = {}\n",
    "for item in df[\"candy\"].values:\n",
    "    if not item in time_since_last:\n",
    "        time_since_last[item] = 0\n",
    "    \n",
    "    event_list.append((i, item, time_since_last[item]))\n",
    "    \n",
    "    curr_shared_event = copy.deepcopy(shared_state_events[-1])\n",
    "    curr_shared_event[item] = time_since_last[item]\n",
    "    shared_state_events.append(curr_shared_event)\n",
    "    \n",
    "    time_since_last[item] = 0\n",
    "    \n",
    "    for e in time_since_last.keys():\n",
    "        if e!=item:\n",
    "            time_since_last[e]+=1\n",
    "        \n",
    "    i = i+1"
   ]
  },
  {
   "cell_type": "code",
   "execution_count": "",
   "metadata": {
    "collapsed": false
   },
   "outputs": [],
   "source": [
    "events_frame = pandas.DataFrame(shared_state_events)"
   ]
  },
  {
   "cell_type": "code",
   "execution_count": "",
   "metadata": {
    "collapsed": false
   },
   "outputs": [],
   "source": [
    "events_frame"
   ]
  },
  {
   "cell_type": "code",
   "execution_count": "",
   "metadata": {
    "collapsed": false
   },
   "outputs": [],
   "source": [
    "# Set a random seed so we will get the same results each time\n",
    "import random\n",
    "random.seed(5656)\n",
    "\n",
    "# Randomly select 30 events for our test set\n",
    "test_indices = set(random.sample(range(events_frame.shape[0]), 30))\n",
    "\n",
    "# Split our data into training and test data\n",
    "train_features = []\n",
    "train_labels = []\n",
    "test_features = []\n",
    "test_labels = []\n",
    "\n",
    "i = 0\n",
    "for airhead, hersheys, kitkat, reeses, rolo, starburst in events_frame.values:\n",
    "    if i in test_indices:\n",
    "        # Use starburst as our label, and all others as our features\n",
    "        test_features.append([airhead, hersheys, kitkat, reeses, rolo])\n",
    "        test_labels.append(starburst)\n",
    "    else:\n",
    "        train_features.append([airhead, hersheys, kitkat, reeses, rolo])\n",
    "        train_labels.append(starburst)\n",
    "    \n",
    "    i += 1"
   ]
  },
  {
   "cell_type": "markdown",
   "metadata": {},
   "source": [
    "### Linear regression model with all features"
   ]
  },
  {
   "cell_type": "code",
   "execution_count": "",
   "metadata": {
    "collapsed": false
   },
   "outputs": [],
   "source": [
    "import sklearn\n",
    "from sklearn import linear_model\n",
    "from sklearn.linear_model import LinearRegression\n",
    "model = linear_model.LinearRegression()\n",
    "model.fit(train_features, train_labels)"
   ]
  },
  {
   "cell_type": "code",
   "execution_count": "",
   "metadata": {
    "collapsed": false
   },
   "outputs": [],
   "source": [
    "# See which features had the most influence on our model \n",
    "zip(events_frame.columns, model.coef_)"
   ]
  },
  {
   "cell_type": "code",
   "execution_count": "",
   "metadata": {
    "collapsed": false
   },
   "outputs": [],
   "source": [
    "# Print mean squared error and R^2 on the training set\n",
    "print(numpy.mean((model.predict(train_features) - train_labels) ** 2))\n",
    "print(model.score(train_features, train_labels))"
   ]
  },
  {
   "cell_type": "code",
   "execution_count": "",
   "metadata": {
    "collapsed": false
   },
   "outputs": [],
   "source": [
    "# Plot predicted and true interarrival times on the training set\n",
    "\n",
    "plt.plot(train_labels, color=\"green\", label=\"True value\")\n",
    "plt.plot(model.predict(train_features), label=\"Predicted value\")\n",
    "\n",
    "plt.xlabel(\"Selection number\", fontsize=14)\n",
    "plt.ylabel(\"Interselection time\", fontsize=14)\n",
    "plt.legend(frameon=True, shadow=True, framealpha=0.7, loc=0, prop={\"size\": 14})"
   ]
  },
  {
   "cell_type": "code",
   "execution_count": "",
   "metadata": {
    "collapsed": false
   },
   "outputs": [],
   "source": [
    "# Print mean squared error and R^2 on the test set\n",
    "print(numpy.mean((model.predict(test_features) - test_labels) ** 2))\n",
    "print(model.score(test_features, test_labels))"
   ]
  },
  {
   "cell_type": "code",
   "execution_count": "",
   "metadata": {
    "collapsed": false
   },
   "outputs": [],
   "source": [
    "# Plot predicted and true time since selection on the test set \n",
    "\n",
    "plt.plot(test_labels, color=\"green\", label=\"True value\")\n",
    "plt.plot(model.predict(test_features), label=\"Predicted value\")\n",
    "\n",
    "plt.xlabel(\"Selection number\", fontsize=14)\n",
    "plt.ylabel(\"Time since selection\", fontsize=14)\n",
    "plt.legend(frameon=True, shadow=True, framealpha=0.7, loc=0, prop={\"size\": 14})"
   ]
  },
  {
   "cell_type": "markdown",
   "metadata": {},
   "source": [
    "### Model performance with restricted features"
   ]
  },
  {
   "cell_type": "code",
   "execution_count": "",
   "metadata": {
    "collapsed": false
   },
   "outputs": [],
   "source": [
    "# Restrict the features to just Airhead and Kitkat - the two most influential features\n",
    "\n",
    "train_features_res = [[e[0], e[2]] for e in train_features]\n",
    "train_labels_res = train_labels\n",
    "test_features_res = [[e[0], e[2]] for e in test_features]\n",
    "test_labels_res = test_labels\n",
    "model_res = linear_model.LinearRegression()\n",
    "model_res.fit(train_features_res, train_labels_res)"
   ]
  },
  {
   "cell_type": "code",
   "execution_count": "",
   "metadata": {
    "collapsed": false
   },
   "outputs": [],
   "source": [
    "# Plot predicted and true interarrival times on the training set\n",
    "\n",
    "plt.plot(train_labels_res, color=\"green\", label=\"True interselection time\")\n",
    "plt.plot(model_res.predict(train_features_res), label=\"Predicted interselection time\")\n",
    "\n",
    "plt.xlabel(\"Selection number\", fontsize=14)\n",
    "plt.ylabel(\"Interselection time\", fontsize=14)\n",
    "plt.legend(frameon=True, shadow=True, framealpha=0.7, loc=0, prop={\"size\": 14})"
   ]
  },
  {
   "cell_type": "code",
   "execution_count": "",
   "metadata": {
    "collapsed": false
   },
   "outputs": [],
   "source": [
    "# Print the mean squared error and R^2 of the restricted model on the training set\n",
    "\n",
    "print(numpy.mean((model_res.predict(train_features_res) - train_labels_res) ** 2))\n",
    "print(model_res.score(train_features_res, train_labels_res))"
   ]
  },
  {
   "cell_type": "code",
   "execution_count": "",
   "metadata": {
    "collapsed": false
   },
   "outputs": [],
   "source": [
    "# Plot predicted and true interarrival times on the test set\n",
    "\n",
    "plt.plot(test_labels_res, color=\"green\", label=\"True interselecton time\")\n",
    "plt.plot(model_res.predict(test_features_res), label=\"Predicted interselection time\")\n",
    "\n",
    "plt.xlabel(\"Selection number\", fontsize=14)\n",
    "plt.ylabel(\"Interselection time\", fontsize=14)\n",
    "plt.legend(frameon=True, shadow=True, framealpha=0.7, loc=0, prop={\"size\": 14})"
   ]
  },
  {
   "cell_type": "code",
   "execution_count": "",
   "metadata": {
    "collapsed": false
   },
   "outputs": [],
   "source": [
    "# Print the mean squared error and R^2 of the restricted model on the test set\n",
    "\n",
    "print(numpy.mean((model_res.predict(test_features_res) - test_labels_res) ** 2))\n",
    "print(model_res.score(test_features_res, test_labels_res))"
   ]
  }
 ],
 "metadata": {
  "kernelspec": {
   "display_name": "Python 2",
   "language": "python",
   "name": "python2"
  },
  "language_info": {
   "codemirror_mode": {
    "name": "ipython",
    "version": 2
   },
   "file_extension": ".py",
   "mimetype": "text/x-python",
   "name": "python",
   "nbconvert_exporter": "python",
   "pygments_lexer": "ipython2",
   "version": "2.7.11"
  }
 },
 "nbformat": 4,
 "nbformat_minor": 0
}
